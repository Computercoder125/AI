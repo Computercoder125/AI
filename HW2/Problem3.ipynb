{
  "nbformat": 4,
  "nbformat_minor": 0,
  "metadata": {
    "colab": {
      "provenance": []
    },
    "kernelspec": {
      "name": "python3",
      "display_name": "Python 3"
    },
    "language_info": {
      "name": "python"
    }
  },
  "cells": [
    {
      "cell_type": "markdown",
      "source": [
        "Sean Gor\n",
        "Purpose: This code determines if there is a path from a given start to goal cell in a given matrix. If so, it returns success; if not, it returns failure.\n",
        "\n"
      ],
      "metadata": {
        "id": "tSwE3euiaRzV"
      }
    },
    {
      "cell_type": "code",
      "source": [
        "from collections import defaultdict"
      ],
      "metadata": {
        "id": "sJKR0WfuaMh5"
      },
      "execution_count": 43,
      "outputs": []
    },
    {
      "cell_type": "code",
      "source": [
        "#Part 3:\n",
        "\n",
        "def dfs_maze(grid, start, goal) -> str:\n",
        "\n",
        "    R, C = len(grid), len(grid[0])\n",
        "    def in_bounds(r, c): return 0 <= r < R and 0 <= c < C\n",
        "    sr, sc = start\n",
        "    gr, gc = goal\n",
        "    #if start and goal are not valid (ie. in bounds), return failure\n",
        "    if not (in_bounds(sr, sc) and in_bounds(gr, gc)):\n",
        "        return \"FAILURE\"\n",
        "    if grid[sr][sc] == 0 or grid[gr][gc] == 0:\n",
        "        return \"FAILURE\"\n",
        "\n",
        "    stack = [(sr, sc)] #creating a stack with ordered pairs (row, column)\n",
        "    visited = set()\n",
        "\n",
        "    # defining the directional moves\n",
        "    DIRS = [(-1,0), (1,0), (0,-1), (0,1)]\n",
        "\n",
        "    #dfs through stack data structure\n",
        "    while stack:\n",
        "        r, c = stack.pop()\n",
        "        if (r, c) == (gr, gc):\n",
        "            return \"SUCCESS\"\n",
        "        if (r, c) in visited:\n",
        "            continue\n",
        "        visited.add((r, c))\n",
        "        for dr, dc in DIRS:\n",
        "            nr, nc = r + dr, c + dc\n",
        "            if in_bounds(nr, nc) and grid[nr][nc] == 1 and (nr, nc) not in visited:\n",
        "                stack.append((nr, nc))\n",
        "\n",
        "    return \"FAILURE\"\n",
        "\n",
        "#testing grids\n",
        "grid1 = [[0,0,0,0,0,0,0,0,0,0,0,0,0,0,0,0,0,0],\n",
        "        [0,1,1,1,0,0,0,1,1,1,0,1,1,0,1,1,1,0],\n",
        "        [0,1,0,1,0,1,0,1,0,1,0,1,0,1,0,1,0,0],\n",
        "        [0,1,0,1,1,1,0,1,1,1,0,1,1,1,0,1,1,0],\n",
        "        [0,1,0,0,0,1,0,0,0,1,0,0,0,1,0,0,1,0],\n",
        "        [0,1,1,1,0,1,1,1,0,1,1,1,0,1,1,1,1,0],\n",
        "        [0,0,0,1,0,0,0,1,0,0,0,1,0,0,0,1,0,0],\n",
        "        [0,1,1,1,1,1,0,1,1,1,0,1,1,1,0,1,1,0],\n",
        "        [0,1,0,0,0,1,0,0,0,1,0,0,0,1,0,0,1,0],\n",
        "        [0,1,1,1,0,1,1,1,0,1,1,1,1,1,1,1,1,0],\n",
        "        [0,0,0,0,0,0,0,0,0,0,0,0,0,0,0,0,0,0]]\n",
        "\n",
        "grid2 = [\n",
        " [0, 1, 0, 0, 0, 1, 0, 0, 0, 1, 0, 0],  # (start is at [1][0])\n",
        " [0, 1, 1, 1, 0, 1, 1, 1, 0, 1, 1, 0],\n",
        " [0, 0, 0, 1, 0, 0, 0, 1, 0, 0, 0, 0],\n",
        " [1, 1, 0, 1, 1, 1, 0, 1, 1, 1, 1, 0],\n",
        " [0, 0, 0, 0, 0, 1, 0, 0, 0, 1, 0, 0],\n",
        " [1, 1, 1, 1, 0, 1, 1, 1, 0, 1, 1, 0],  # (goal is at [5][11])\n",
        "]\n",
        "\n",
        "start = (1, 1)\n",
        "\n",
        "goal = (9, 16)\n",
        "\n",
        "start2 = (1, 0)\n",
        "\n",
        "goal2 = (9, 16)\n",
        "\n",
        "print(dfs_maze(grid1, start, goal))  # should print \"SUCCESS\"\n",
        "print(dfs_maze(grid2, start2, goal2)) # should print \"FAILURE\"\n"
      ],
      "metadata": {
        "colab": {
          "base_uri": "https://localhost:8080/"
        },
        "id": "-1E-fGLMaGS_",
        "outputId": "32a8d828-ce36-4220-8592-2888af8f83d8"
      },
      "execution_count": 45,
      "outputs": [
        {
          "output_type": "stream",
          "name": "stdout",
          "text": [
            "SUCCESS\n",
            "FAILURE\n"
          ]
        }
      ]
    },
    {
      "cell_type": "code",
      "source": [],
      "metadata": {
        "id": "fD-C-bk4aLxR"
      },
      "execution_count": null,
      "outputs": []
    }
  ]
}