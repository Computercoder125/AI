{
  "nbformat": 4,
  "nbformat_minor": 0,
  "metadata": {
    "colab": {
      "provenance": []
    },
    "kernelspec": {
      "name": "python3",
      "display_name": "Python 3"
    },
    "language_info": {
      "name": "python"
    }
  },
  "cells": [
    {
      "cell_type": "markdown",
      "source": [
        "Author: Sean Gor\n",
        "Purpose: To find the kth friend(s) of a person using the concept of breath first search"
      ],
      "metadata": {
        "id": "VaOX8_tI-mCZ"
      }
    },
    {
      "cell_type": "code",
      "execution_count": 192,
      "metadata": {
        "id": "CqKDvkMCEoh2"
      },
      "outputs": [],
      "source": [
        "from collections import defaultdict, deque"
      ]
    },
    {
      "cell_type": "code",
      "source": [
        "\n",
        "def find_friends_k(adj, user, k):\n",
        "    \"\"\"\n",
        "    adj: dict[str, set[str]]  (undirected adjacency list)\n",
        "    user: str\n",
        "    k: int  (level distance)\n",
        "    returns: sorted list of kth-level friends\n",
        "    \"\"\"\n",
        "    if user not in adj or k <= 0:\n",
        "        return []\n",
        "\n",
        "    #\n",
        "    visited = {user}\n",
        "    q = deque([user])\n",
        "    level = 0\n",
        "\n",
        "    #go through process of breadth first search until k-level is reached\n",
        "    while q:\n",
        "        size = len(q)\n",
        "        if level == k:\n",
        "            return sorted(q)  #sort based on who knows each\n",
        "        # expand one level\n",
        "        for _ in range(size):\n",
        "            cur = q.popleft()\n",
        "            for nb in adj.get(cur, []):\n",
        "                if nb not in visited:\n",
        "                    visited.add(nb)\n",
        "                    q.append(nb)\n",
        "        level += 1 #\n",
        "\n",
        "    return [] # this means that fewer than k levels exist and hence there is no friend in that level\n",
        "\n",
        "# Undirected edges (friendships)\n",
        "edges = [\n",
        "    (\"Bob\", \"Richard\"),\n",
        "    (\"Bob\", \"Rob\"),\n",
        "    (\"Bob\", \"Pam\"),\n",
        "    (\"Pam\", \"Roger\"),\n",
        "    (\"Pam\", \"Peter\"),\n",
        "    (\"Peter\", \"Amy\"),\n",
        "    (\"Roger\", \"Anna\"),\n",
        "]\n",
        "\n",
        "# Build the undirected adjacency list\n",
        "G = defaultdict(set)\n",
        "for u, v in edges:\n",
        "    G[u].add(v)\n",
        "    G[v].add(u)\n",
        "\n",
        "# Testing\n",
        "print(find_friends_k(G, \"Bob\", 3))\n",
        "print(find_friends_k(G, \"Roger\", 2))\n",
        "print(find_friends_k(G, \"Anna\", 1))"
      ],
      "metadata": {
        "id": "XNk-eXMpEqMQ",
        "colab": {
          "base_uri": "https://localhost:8080/"
        },
        "outputId": "e7c31ffd-9931-444e-ab9b-2cb41c72ea31"
      },
      "execution_count": 191,
      "outputs": [
        {
          "output_type": "stream",
          "name": "stdout",
          "text": [
            "['Amy', 'Anna']\n",
            "['Bob', 'Peter']\n",
            "['Roger']\n"
          ]
        }
      ]
    }
  ]
}