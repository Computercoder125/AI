{
  "nbformat": 4,
  "nbformat_minor": 0,
  "metadata": {
    "colab": {
      "provenance": []
    },
    "kernelspec": {
      "name": "python3",
      "display_name": "Python 3"
    },
    "language_info": {
      "name": "python"
    }
  },
  "cells": [
    {
      "cell_type": "markdown",
      "source": [
        "Sean Gor - The purpose of this part is to use breath first search find all \"potential\" friends of a user in a given adjacency list"
      ],
      "metadata": {
        "id": "th1dSEXW_3zM"
      }
    },
    {
      "cell_type": "code",
      "execution_count": 26,
      "metadata": {
        "id": "TfQOCAfUXLaZ"
      },
      "outputs": [],
      "source": [
        "from collections import defaultdict"
      ]
    },
    {
      "cell_type": "code",
      "source": [
        "#Part 2:\n",
        "\n",
        "def potential_friends(adj, user):\n",
        "\n",
        "    if user not in adj:\n",
        "        return []\n",
        "\n",
        "    direct = adj[user]\n",
        "    suggestions = set()\n",
        "\n",
        "    for friend in direct:\n",
        "        for fof in adj[friend]:   # friend of friend\n",
        "            if fof != user and fof not in direct:\n",
        "                suggestions.add(fof)\n",
        "\n",
        "    return sorted(suggestions)\n",
        "\n",
        "#Creating friend connections (representing edges)\n",
        "edges = {\n",
        "    \"Adam\":   [\"Maria\", \"Maya\"],\n",
        "    \"Maria\":  [\"Adam\", \"Sophia\", \"David\"],\n",
        "    \"Sophia\": [\"Maria\", \"Maya\"],\n",
        "    \"Maya\":   [\"Adam\", \"Sophia\"],\n",
        "    \"David\":  [\"Maria\"]\n",
        "}\n",
        "# Build the adjacency list from the edges\n",
        "\n",
        "G = defaultdict(set)\n",
        "for u, nbrs in edges.items():   #Iterate through this adjacency list\n",
        "    for v in nbrs:\n",
        "        G[u].add(v)\n",
        "        G[v].add(u)\n",
        "\n",
        "# Testing\n",
        "print(\"Adam:\", potential_friends(G, \"Adam\"))\n",
        "print(\"David:\", potential_friends(G, \"David\"))\n",
        "print(\"Sophia:\", potential_friends(G, \"Sophia\"))\n",
        "print(\"Maya:\", potential_friends(G, \"Maya\"))\n"
      ],
      "metadata": {
        "colab": {
          "base_uri": "https://localhost:8080/"
        },
        "id": "W2xjybEAYVex",
        "outputId": "b7ba8ef7-79ed-43d9-ea04-a7eac1a1b1cc"
      },
      "execution_count": 28,
      "outputs": [
        {
          "output_type": "stream",
          "name": "stdout",
          "text": [
            "Adam: ['David', 'Sophia']\n",
            "David: ['Adam', 'Sophia']\n",
            "Sophia: ['Adam', 'David']\n",
            "Maya: ['Maria']\n"
          ]
        }
      ]
    }
  ]
}